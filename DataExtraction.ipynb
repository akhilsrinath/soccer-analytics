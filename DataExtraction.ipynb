{
  "nbformat": 4,
  "nbformat_minor": 0,
  "metadata": {
    "colab": {
      "name": "DataExtraction.ipynb",
      "provenance": [],
      "authorship_tag": "ABX9TyNXr9mF/D+jQtAiWok6Vy+T",
      "include_colab_link": true
    },
    "kernelspec": {
      "name": "python3",
      "display_name": "Python 3"
    },
    "language_info": {
      "name": "python"
    }
  },
  "cells": [
    {
      "cell_type": "markdown",
      "metadata": {
        "id": "view-in-github",
        "colab_type": "text"
      },
      "source": [
        "<a href=\"https://colab.research.google.com/github/akhilsrinath/soccer-analytics/blob/main/DataExtraction.ipynb\" target=\"_parent\"><img src=\"https://colab.research.google.com/assets/colab-badge.svg\" alt=\"Open In Colab\"/></a>"
      ]
    },
    {
      "cell_type": "markdown",
      "source": [
        "## **Data Extraction and Transformation**"
      ],
      "metadata": {
        "id": "pdPebjEtgBgt"
      }
    },
    {
      "cell_type": "markdown",
      "source": [
        "Parsing and extracting raw data from StatsBomb and storing it in a Pandas DataFrame. "
      ],
      "metadata": {
        "id": "3z-0sKl9gJqa"
      }
    },
    {
      "cell_type": "code",
      "source": [
        "import requests \n",
        "import pandas as pd \n",
        "import tqdm as tqdm \n",
        "import matplotlib.pyplot as plt"
      ],
      "metadata": {
        "id": "vSUYy6JwgNFR"
      },
      "execution_count": 1,
      "outputs": []
    },
    {
      "cell_type": "markdown",
      "source": [
        "- requests: executing HTTP requests \n",
        "- pandas: data analysis and manipulation \n",
        "- tqdm: progress bar"
      ],
      "metadata": {
        "id": "88RZF7e1gQl6"
      }
    },
    {
      "cell_type": "code",
      "source": [
        "## Locations for the raw statsbomb data \n",
        "\n",
        "base_url = \"https://raw.githubusercontent.com/statsbomb/open-data/master/data/\"\n",
        "comp_url = base_url + \"matches/{}/{}.json\"\n",
        "match_url = base_url + \"events/{}.json\"\n"
      ],
      "metadata": {
        "id": "BqcFrGgvgTG9"
      },
      "execution_count": 2,
      "outputs": []
    },
    {
      "cell_type": "code",
      "source": [
        "def parse_data(competition_id, season_id):\n",
        "  matches = requests.get(url=comp_url.format(competition_id, season_id)).json()\n",
        "  match_ids = [m['match_id'] for m in matches]\n",
        "\n",
        "  all_events = []\n",
        "  for match_id in match_ids: \n",
        "    events = requests.get(url=match_url.format(match_id)).json()\n",
        "\n",
        "    shots = [x for x in events if x['type']['name'] == 'Shot']\n",
        "    for s in shots:\n",
        "      attributes = {\n",
        "          'match_id': match_id,\n",
        "          'team': s['possession_team']['name'],\n",
        "          'player': s['player']['name'],\n",
        "          'x': s['location'][0],\n",
        "          'y': s['location'][1],\n",
        "          'outcome': s['shot']['outcome']['name'],\n",
        "      }\n",
        "      all_events.append(attributes)\n",
        "\n",
        "  return pd.DataFrame(all_events)"
      ],
      "metadata": {
        "id": "DBZJysWJgVkR"
      },
      "execution_count": 3,
      "outputs": []
    },
    {
      "cell_type": "code",
      "source": [
        "competition_id = 43\n",
        "season_id = 3"
      ],
      "metadata": {
        "id": "4J4PFQX2gXRX"
      },
      "execution_count": 4,
      "outputs": []
    },
    {
      "cell_type": "code",
      "source": [
        "df = parse_data(competition_id, season_id)"
      ],
      "metadata": {
        "id": "muCkXiZHgYsj"
      },
      "execution_count": 5,
      "outputs": []
    },
    {
      "cell_type": "code",
      "source": [
        "df.head(10)"
      ],
      "metadata": {
        "colab": {
          "base_uri": "https://localhost:8080/",
          "height": 363
        },
        "id": "R3MHw5v1gaAQ",
        "outputId": "b3f186a2-46f1-4e8f-d712-afe549b6a42d"
      },
      "execution_count": 6,
      "outputs": [
        {
          "output_type": "execute_result",
          "data": {
            "text/html": [
              "\n",
              "  <div id=\"df-90ee7a38-5660-4d9a-bbd6-5eb9589ca8b6\">\n",
              "    <div class=\"colab-df-container\">\n",
              "      <div>\n",
              "<style scoped>\n",
              "    .dataframe tbody tr th:only-of-type {\n",
              "        vertical-align: middle;\n",
              "    }\n",
              "\n",
              "    .dataframe tbody tr th {\n",
              "        vertical-align: top;\n",
              "    }\n",
              "\n",
              "    .dataframe thead th {\n",
              "        text-align: right;\n",
              "    }\n",
              "</style>\n",
              "<table border=\"1\" class=\"dataframe\">\n",
              "  <thead>\n",
              "    <tr style=\"text-align: right;\">\n",
              "      <th></th>\n",
              "      <th>match_id</th>\n",
              "      <th>team</th>\n",
              "      <th>player</th>\n",
              "      <th>x</th>\n",
              "      <th>y</th>\n",
              "      <th>outcome</th>\n",
              "    </tr>\n",
              "  </thead>\n",
              "  <tbody>\n",
              "    <tr>\n",
              "      <th>0</th>\n",
              "      <td>7578</td>\n",
              "      <td>Uruguay</td>\n",
              "      <td>Edinson Roberto Cavani Gómez</td>\n",
              "      <td>97.0</td>\n",
              "      <td>32.0</td>\n",
              "      <td>Saved</td>\n",
              "    </tr>\n",
              "    <tr>\n",
              "      <th>1</th>\n",
              "      <td>7578</td>\n",
              "      <td>Egypt</td>\n",
              "      <td>Mahmoud Ibrahim Hassan</td>\n",
              "      <td>108.0</td>\n",
              "      <td>51.0</td>\n",
              "      <td>Saved</td>\n",
              "    </tr>\n",
              "    <tr>\n",
              "      <th>2</th>\n",
              "      <td>7578</td>\n",
              "      <td>Uruguay</td>\n",
              "      <td>Luis Alberto Suárez Díaz</td>\n",
              "      <td>109.0</td>\n",
              "      <td>55.0</td>\n",
              "      <td>Off T</td>\n",
              "    </tr>\n",
              "    <tr>\n",
              "      <th>3</th>\n",
              "      <td>7578</td>\n",
              "      <td>Uruguay</td>\n",
              "      <td>Edinson Roberto Cavani Gómez</td>\n",
              "      <td>102.0</td>\n",
              "      <td>23.0</td>\n",
              "      <td>Blocked</td>\n",
              "    </tr>\n",
              "    <tr>\n",
              "      <th>4</th>\n",
              "      <td>7578</td>\n",
              "      <td>Uruguay</td>\n",
              "      <td>José Martín Cáceres Silva</td>\n",
              "      <td>114.0</td>\n",
              "      <td>48.0</td>\n",
              "      <td>Wayward</td>\n",
              "    </tr>\n",
              "    <tr>\n",
              "      <th>5</th>\n",
              "      <td>7578</td>\n",
              "      <td>Uruguay</td>\n",
              "      <td>Luis Alberto Suárez Díaz</td>\n",
              "      <td>116.0</td>\n",
              "      <td>35.0</td>\n",
              "      <td>Off T</td>\n",
              "    </tr>\n",
              "    <tr>\n",
              "      <th>6</th>\n",
              "      <td>7578</td>\n",
              "      <td>Egypt</td>\n",
              "      <td>Marwan Mohsen</td>\n",
              "      <td>100.0</td>\n",
              "      <td>51.0</td>\n",
              "      <td>Saved</td>\n",
              "    </tr>\n",
              "    <tr>\n",
              "      <th>7</th>\n",
              "      <td>7578</td>\n",
              "      <td>Uruguay</td>\n",
              "      <td>Matías Vecino Falero</td>\n",
              "      <td>83.0</td>\n",
              "      <td>53.0</td>\n",
              "      <td>Off T</td>\n",
              "    </tr>\n",
              "    <tr>\n",
              "      <th>8</th>\n",
              "      <td>7578</td>\n",
              "      <td>Uruguay</td>\n",
              "      <td>Luis Alberto Suárez Díaz</td>\n",
              "      <td>88.0</td>\n",
              "      <td>38.0</td>\n",
              "      <td>Blocked</td>\n",
              "    </tr>\n",
              "    <tr>\n",
              "      <th>9</th>\n",
              "      <td>7578</td>\n",
              "      <td>Egypt</td>\n",
              "      <td>Abdalla Mahmoud El Said Bekhit</td>\n",
              "      <td>105.0</td>\n",
              "      <td>48.0</td>\n",
              "      <td>Wayward</td>\n",
              "    </tr>\n",
              "  </tbody>\n",
              "</table>\n",
              "</div>\n",
              "      <button class=\"colab-df-convert\" onclick=\"convertToInteractive('df-90ee7a38-5660-4d9a-bbd6-5eb9589ca8b6')\"\n",
              "              title=\"Convert this dataframe to an interactive table.\"\n",
              "              style=\"display:none;\">\n",
              "        \n",
              "  <svg xmlns=\"http://www.w3.org/2000/svg\" height=\"24px\"viewBox=\"0 0 24 24\"\n",
              "       width=\"24px\">\n",
              "    <path d=\"M0 0h24v24H0V0z\" fill=\"none\"/>\n",
              "    <path d=\"M18.56 5.44l.94 2.06.94-2.06 2.06-.94-2.06-.94-.94-2.06-.94 2.06-2.06.94zm-11 1L8.5 8.5l.94-2.06 2.06-.94-2.06-.94L8.5 2.5l-.94 2.06-2.06.94zm10 10l.94 2.06.94-2.06 2.06-.94-2.06-.94-.94-2.06-.94 2.06-2.06.94z\"/><path d=\"M17.41 7.96l-1.37-1.37c-.4-.4-.92-.59-1.43-.59-.52 0-1.04.2-1.43.59L10.3 9.45l-7.72 7.72c-.78.78-.78 2.05 0 2.83L4 21.41c.39.39.9.59 1.41.59.51 0 1.02-.2 1.41-.59l7.78-7.78 2.81-2.81c.8-.78.8-2.07 0-2.86zM5.41 20L4 18.59l7.72-7.72 1.47 1.35L5.41 20z\"/>\n",
              "  </svg>\n",
              "      </button>\n",
              "      \n",
              "  <style>\n",
              "    .colab-df-container {\n",
              "      display:flex;\n",
              "      flex-wrap:wrap;\n",
              "      gap: 12px;\n",
              "    }\n",
              "\n",
              "    .colab-df-convert {\n",
              "      background-color: #E8F0FE;\n",
              "      border: none;\n",
              "      border-radius: 50%;\n",
              "      cursor: pointer;\n",
              "      display: none;\n",
              "      fill: #1967D2;\n",
              "      height: 32px;\n",
              "      padding: 0 0 0 0;\n",
              "      width: 32px;\n",
              "    }\n",
              "\n",
              "    .colab-df-convert:hover {\n",
              "      background-color: #E2EBFA;\n",
              "      box-shadow: 0px 1px 2px rgba(60, 64, 67, 0.3), 0px 1px 3px 1px rgba(60, 64, 67, 0.15);\n",
              "      fill: #174EA6;\n",
              "    }\n",
              "\n",
              "    [theme=dark] .colab-df-convert {\n",
              "      background-color: #3B4455;\n",
              "      fill: #D2E3FC;\n",
              "    }\n",
              "\n",
              "    [theme=dark] .colab-df-convert:hover {\n",
              "      background-color: #434B5C;\n",
              "      box-shadow: 0px 1px 3px 1px rgba(0, 0, 0, 0.15);\n",
              "      filter: drop-shadow(0px 1px 2px rgba(0, 0, 0, 0.3));\n",
              "      fill: #FFFFFF;\n",
              "    }\n",
              "  </style>\n",
              "\n",
              "      <script>\n",
              "        const buttonEl =\n",
              "          document.querySelector('#df-90ee7a38-5660-4d9a-bbd6-5eb9589ca8b6 button.colab-df-convert');\n",
              "        buttonEl.style.display =\n",
              "          google.colab.kernel.accessAllowed ? 'block' : 'none';\n",
              "\n",
              "        async function convertToInteractive(key) {\n",
              "          const element = document.querySelector('#df-90ee7a38-5660-4d9a-bbd6-5eb9589ca8b6');\n",
              "          const dataTable =\n",
              "            await google.colab.kernel.invokeFunction('convertToInteractive',\n",
              "                                                     [key], {});\n",
              "          if (!dataTable) return;\n",
              "\n",
              "          const docLinkHtml = 'Like what you see? Visit the ' +\n",
              "            '<a target=\"_blank\" href=https://colab.research.google.com/notebooks/data_table.ipynb>data table notebook</a>'\n",
              "            + ' to learn more about interactive tables.';\n",
              "          element.innerHTML = '';\n",
              "          dataTable['output_type'] = 'display_data';\n",
              "          await google.colab.output.renderOutput(dataTable, element);\n",
              "          const docLink = document.createElement('div');\n",
              "          docLink.innerHTML = docLinkHtml;\n",
              "          element.appendChild(docLink);\n",
              "        }\n",
              "      </script>\n",
              "    </div>\n",
              "  </div>\n",
              "  "
            ],
            "text/plain": [
              "   match_id     team                          player      x     y  outcome\n",
              "0      7578  Uruguay    Edinson Roberto Cavani Gómez   97.0  32.0    Saved\n",
              "1      7578    Egypt          Mahmoud Ibrahim Hassan  108.0  51.0    Saved\n",
              "2      7578  Uruguay        Luis Alberto Suárez Díaz  109.0  55.0    Off T\n",
              "3      7578  Uruguay    Edinson Roberto Cavani Gómez  102.0  23.0  Blocked\n",
              "4      7578  Uruguay       José Martín Cáceres Silva  114.0  48.0  Wayward\n",
              "5      7578  Uruguay        Luis Alberto Suárez Díaz  116.0  35.0    Off T\n",
              "6      7578    Egypt                   Marwan Mohsen  100.0  51.0    Saved\n",
              "7      7578  Uruguay            Matías Vecino Falero   83.0  53.0    Off T\n",
              "8      7578  Uruguay        Luis Alberto Suárez Díaz   88.0  38.0  Blocked\n",
              "9      7578    Egypt  Abdalla Mahmoud El Said Bekhit  105.0  48.0  Wayward"
            ]
          },
          "metadata": {},
          "execution_count": 6
        }
      ]
    },
    {
      "cell_type": "code",
      "source": [
        ""
      ],
      "metadata": {
        "id": "7OYg6jg4ghLK"
      },
      "execution_count": null,
      "outputs": []
    }
  ]
}